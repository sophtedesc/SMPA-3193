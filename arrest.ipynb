{
 "cells": [
  {
   "cell_type": "code",
   "execution_count": 41,
   "metadata": {
    "collapsed": false,
    "deletable": true,
    "editable": true
   },
   "outputs": [
    {
     "name": "stdout",
     "output_type": "stream",
     "text": [
      "| column         | data_type |\n",
      "| -------------- | --------- |\n",
      "| LName          | Text      |\n",
      "| FName          | Text      |\n",
      "| MName          | Text      |\n",
      "| Age            | Number    |\n",
      "| DateArr        | Date      |\n",
      "| Charge         | Text      |\n",
      "| Charge Descrip | Text      |\n",
      "| Address        | Text      |\n",
      "\n",
      "| table                                              | rows |\n",
      "| -------------------------------------------------- | ---- |\n",
      "| PETIT LARCENY: <$200 NOT FROM A PERSON             | 98   |\n",
      "| LICENSE: DRIVE W/O                                 | 397  |\n",
      "| LICENSE: DRIVE W/O, 2+ OFFENSE                     | 53   |\n",
      "| GRAND LARCENY: $200+ NOT FROM A PERSON             | 88   |\n",
      "| BURGLARIOUS TOOLS: POSSESSION OF                   | 9    |\n",
      "| IDENTITY THEFT: OBTAIN ID TO DEFRAUD               | 7    |\n",
      "| DRUGS: POSSESS MARIJUANA, 1ST OFF                  | 161  |\n",
      "| LIC REVOKED: DR W/O LICENSE, 2 OFF                 | 57   |\n",
      "| LIC REVOKED: DR W/O LICENSE, 1 OFF                 | 385  |\n",
      "| RECKLE/20 MPH OVER LIMIT                           | 92   |\n",
      "| DRUNK IN PUBLIC OR PROFANE                         | 177  |\n",
      "| TRESPASS: AFTER BEING FORBIDDEN TO DO SO           | 14   |\n",
      "| FAILURE TO APPEAR: ON FELONY OFFENSE               | 20   |\n",
      "| IDENTITY THEFT: OBTAIN ID TO AVOID ARREST/ETC.     | 10   |\n",
      "| DRUGS: POSSESS SCH I OR II                         | 61   |\n",
      "| DRUGS: DISTRIB/PWI MARIJUANA >1/2 OZ TO 5 LBS      | 30   |\n",
      "| PARAPHERNALIA: UNAUTHORIZED DISTRIBUTION OF        | 11   |\n",
      "| INSUR: OPERATE UNINSURED VEH                       | 47   |\n",
      "| ASSAULT: ON FAMILY MEMBER                          | 96   |\n",
      "| PHONE: INJURE/TAP LINE; COPY/OBSTRUCT MESSAGE      | 4    |\n",
      "\n",
      "| LName | FName | MName | Age | DateArr | Charge | ... |\n",
      "| ----- | ----- | ----- | --- | ------- | ------ | --- |\n"
     ]
    },
    {
     "name": "stderr",
     "output_type": "stream",
     "text": [
      "/System/Library/Frameworks/Python.framework/Versions/2.7/lib/python2.7/json/encoder.py:207: DeprecationWarning: Interpreting naive datetime as local 2017-02-28 12:17:33.347462. Please add timezone info to timestamps.\n"
     ]
    }
   ],
   "source": [
    "import agate\n",
    "results = agate.Table.from_csv(\"arrest.csv\")\n",
    "print results\n",
    "row = results.rows[0]\n",
    "row['Charge Descrip']\n",
    "by_charge = results.group_by('Charge Descrip')\n",
    "print by_charge\n",
    "by_age = results.group_by('Age')\n",
    "age_totals = by_age.aggregate([('age_count', agate.Count('Age'))])\n",
    "import re\n",
    "alex = results.where(lambda row: re.match(\"ALEX\", row [\"Address\"]))\n",
    "alex.print_table()"
   ]
  },
  {
   "cell_type": "code",
   "execution_count": null,
   "metadata": {
    "collapsed": true
   },
   "outputs": [],
   "source": []
  },
  {
   "cell_type": "code",
   "execution_count": 32,
   "metadata": {
    "collapsed": false
   },
   "outputs": [
    {
     "ename": "KeyError",
     "evalue": "'age_count'",
     "output_type": "error",
     "traceback": [
      "\u001b[0;31m---------------------------------------------------------------------------\u001b[0m",
      "\u001b[0;31mKeyError\u001b[0m                                  Traceback (most recent call last)",
      "\u001b[0;32m<ipython-input-32-e50fe24eb638>\u001b[0m in \u001b[0;36m<module>\u001b[0;34m()\u001b[0m\n\u001b[0;32m----> 1\u001b[0;31m \u001b[0mage_totals\u001b[0m\u001b[0;34m.\u001b[0m\u001b[0morder_by\u001b[0m\u001b[0;34m(\u001b[0m\u001b[0;34m'age_count'\u001b[0m\u001b[0;34m,\u001b[0m \u001b[0mreverse\u001b[0m\u001b[0;34m=\u001b[0m\u001b[0mTrue\u001b[0m\u001b[0;34m)\u001b[0m\u001b[0;34m.\u001b[0m\u001b[0mprint_table\u001b[0m\u001b[0;34m(\u001b[0m\u001b[0;34m)\u001b[0m\u001b[0;34m\u001b[0m\u001b[0m\n\u001b[0m",
      "\u001b[0;32m/Users/Sophia/.virtualenvs/exercises/lib/python2.7/site-packages/agate/tableset/proxy_methods.pyc\u001b[0m in \u001b[0;36morder_by\u001b[0;34m(self, *args, **kwargs)\u001b[0m\n\u001b[1;32m     72\u001b[0m     \u001b[0mCalls\u001b[0m \u001b[0;34m:\u001b[0m\u001b[0mmeth\u001b[0m\u001b[0;34m:\u001b[0m\u001b[0;34m`\u001b[0m\u001b[0;34m.\u001b[0m\u001b[0mTable\u001b[0m\u001b[0;34m.\u001b[0m\u001b[0morder_by\u001b[0m\u001b[0;34m`\u001b[0m \u001b[0mon\u001b[0m \u001b[0meach\u001b[0m \u001b[0mtable\u001b[0m \u001b[0;32min\u001b[0m \u001b[0mthe\u001b[0m \u001b[0mTableSet\u001b[0m\u001b[0;34m.\u001b[0m\u001b[0;34m\u001b[0m\u001b[0m\n\u001b[1;32m     73\u001b[0m     \"\"\"\n\u001b[0;32m---> 74\u001b[0;31m     \u001b[0;32mreturn\u001b[0m \u001b[0mself\u001b[0m\u001b[0;34m.\u001b[0m\u001b[0m_proxy\u001b[0m\u001b[0;34m(\u001b[0m\u001b[0;34m'order_by'\u001b[0m\u001b[0;34m,\u001b[0m \u001b[0;34m*\u001b[0m\u001b[0margs\u001b[0m\u001b[0;34m,\u001b[0m \u001b[0;34m**\u001b[0m\u001b[0mkwargs\u001b[0m\u001b[0;34m)\u001b[0m\u001b[0;34m\u001b[0m\u001b[0m\n\u001b[0m\u001b[1;32m     75\u001b[0m \u001b[0;34m\u001b[0m\u001b[0m\n\u001b[1;32m     76\u001b[0m \u001b[0;32mdef\u001b[0m \u001b[0mpivot\u001b[0m\u001b[0;34m(\u001b[0m\u001b[0mself\u001b[0m\u001b[0;34m,\u001b[0m \u001b[0;34m*\u001b[0m\u001b[0margs\u001b[0m\u001b[0;34m,\u001b[0m \u001b[0;34m**\u001b[0m\u001b[0mkwargs\u001b[0m\u001b[0;34m)\u001b[0m\u001b[0;34m:\u001b[0m\u001b[0;34m\u001b[0m\u001b[0m\n",
      "\u001b[0;32m/Users/Sophia/.virtualenvs/exercises/lib/python2.7/site-packages/agate/tableset/__init__.pyc\u001b[0m in \u001b[0;36m_proxy\u001b[0;34m(self, method_name, *args, **kwargs)\u001b[0m\n\u001b[1;32m    152\u001b[0m \u001b[0;34m\u001b[0m\u001b[0m\n\u001b[1;32m    153\u001b[0m         \u001b[0;32mfor\u001b[0m \u001b[0mkey\u001b[0m\u001b[0;34m,\u001b[0m \u001b[0mtable\u001b[0m \u001b[0;32min\u001b[0m \u001b[0mself\u001b[0m\u001b[0;34m.\u001b[0m\u001b[0mitems\u001b[0m\u001b[0;34m(\u001b[0m\u001b[0;34m)\u001b[0m\u001b[0;34m:\u001b[0m\u001b[0;34m\u001b[0m\u001b[0m\n\u001b[0;32m--> 154\u001b[0;31m             \u001b[0mtables\u001b[0m\u001b[0;34m.\u001b[0m\u001b[0mappend\u001b[0m\u001b[0;34m(\u001b[0m\u001b[0mgetattr\u001b[0m\u001b[0;34m(\u001b[0m\u001b[0mtable\u001b[0m\u001b[0;34m,\u001b[0m \u001b[0mmethod_name\u001b[0m\u001b[0;34m)\u001b[0m\u001b[0;34m(\u001b[0m\u001b[0;34m*\u001b[0m\u001b[0margs\u001b[0m\u001b[0;34m,\u001b[0m \u001b[0;34m**\u001b[0m\u001b[0mkwargs\u001b[0m\u001b[0;34m)\u001b[0m\u001b[0;34m)\u001b[0m\u001b[0;34m\u001b[0m\u001b[0m\n\u001b[0m\u001b[1;32m    155\u001b[0m \u001b[0;34m\u001b[0m\u001b[0m\n\u001b[1;32m    156\u001b[0m         return self._fork(\n",
      "\u001b[0;32m/Users/Sophia/.virtualenvs/exercises/lib/python2.7/site-packages/agate/table/order_by.pyc\u001b[0m in \u001b[0;36morder_by\u001b[0;34m(self, key, reverse)\u001b[0m\n\u001b[1;32m     39\u001b[0m             \u001b[0;32mreturn\u001b[0m \u001b[0mk\u001b[0m\u001b[0;34m\u001b[0m\u001b[0m\n\u001b[1;32m     40\u001b[0m \u001b[0;34m\u001b[0m\u001b[0m\n\u001b[0;32m---> 41\u001b[0;31m         \u001b[0mresults\u001b[0m \u001b[0;34m=\u001b[0m \u001b[0msorted\u001b[0m\u001b[0;34m(\u001b[0m\u001b[0menumerate\u001b[0m\u001b[0;34m(\u001b[0m\u001b[0mself\u001b[0m\u001b[0;34m.\u001b[0m\u001b[0m_rows\u001b[0m\u001b[0;34m)\u001b[0m\u001b[0;34m,\u001b[0m \u001b[0mkey\u001b[0m\u001b[0;34m=\u001b[0m\u001b[0msort_key\u001b[0m\u001b[0;34m,\u001b[0m \u001b[0mreverse\u001b[0m\u001b[0;34m=\u001b[0m\u001b[0mreverse\u001b[0m\u001b[0;34m)\u001b[0m\u001b[0;34m\u001b[0m\u001b[0m\n\u001b[0m\u001b[1;32m     42\u001b[0m \u001b[0;34m\u001b[0m\u001b[0m\n\u001b[1;32m     43\u001b[0m         \u001b[0mindices\u001b[0m\u001b[0;34m,\u001b[0m \u001b[0mrows\u001b[0m \u001b[0;34m=\u001b[0m \u001b[0mzip\u001b[0m\u001b[0;34m(\u001b[0m\u001b[0;34m*\u001b[0m\u001b[0mresults\u001b[0m\u001b[0;34m)\u001b[0m\u001b[0;34m\u001b[0m\u001b[0m\n",
      "\u001b[0;32m/Users/Sophia/.virtualenvs/exercises/lib/python2.7/site-packages/agate/table/order_by.pyc\u001b[0m in \u001b[0;36msort_key\u001b[0;34m(data)\u001b[0m\n\u001b[1;32m     32\u001b[0m                 \u001b[0mk\u001b[0m \u001b[0;34m=\u001b[0m \u001b[0mtuple\u001b[0m\u001b[0;34m(\u001b[0m\u001b[0mutils\u001b[0m\u001b[0;34m.\u001b[0m\u001b[0mNullOrder\u001b[0m\u001b[0;34m(\u001b[0m\u001b[0;34m)\u001b[0m \u001b[0;32mif\u001b[0m \u001b[0mrow\u001b[0m\u001b[0;34m[\u001b[0m\u001b[0mn\u001b[0m\u001b[0;34m]\u001b[0m \u001b[0;32mis\u001b[0m \u001b[0mNone\u001b[0m \u001b[0;32melse\u001b[0m \u001b[0mrow\u001b[0m\u001b[0;34m[\u001b[0m\u001b[0mn\u001b[0m\u001b[0;34m]\u001b[0m \u001b[0;32mfor\u001b[0m \u001b[0mn\u001b[0m \u001b[0;32min\u001b[0m \u001b[0mkey\u001b[0m\u001b[0;34m)\u001b[0m\u001b[0;34m\u001b[0m\u001b[0m\n\u001b[1;32m     33\u001b[0m             \u001b[0;32melse\u001b[0m\u001b[0;34m:\u001b[0m\u001b[0;34m\u001b[0m\u001b[0m\n\u001b[0;32m---> 34\u001b[0;31m                 \u001b[0mk\u001b[0m \u001b[0;34m=\u001b[0m \u001b[0mrow\u001b[0m\u001b[0;34m[\u001b[0m\u001b[0mkey\u001b[0m\u001b[0;34m]\u001b[0m\u001b[0;34m\u001b[0m\u001b[0m\n\u001b[0m\u001b[1;32m     35\u001b[0m \u001b[0;34m\u001b[0m\u001b[0m\n\u001b[1;32m     36\u001b[0m             \u001b[0;32mif\u001b[0m \u001b[0mk\u001b[0m \u001b[0;32mis\u001b[0m \u001b[0mNone\u001b[0m\u001b[0;34m:\u001b[0m\u001b[0;34m\u001b[0m\u001b[0m\n",
      "\u001b[0;32m/Users/Sophia/.virtualenvs/exercises/lib/python2.7/site-packages/agate/mapped_sequence.pyc\u001b[0m in \u001b[0;36m__getitem__\u001b[0;34m(self, key)\u001b[0m\n\u001b[1;32m     92\u001b[0m             \u001b[0;32mreturn\u001b[0m \u001b[0mself\u001b[0m\u001b[0;34m.\u001b[0m\u001b[0mvalues\u001b[0m\u001b[0;34m(\u001b[0m\u001b[0;34m)\u001b[0m\u001b[0;34m[\u001b[0m\u001b[0mkey\u001b[0m\u001b[0;34m]\u001b[0m\u001b[0;34m\u001b[0m\u001b[0m\n\u001b[1;32m     93\u001b[0m         \u001b[0;32melse\u001b[0m\u001b[0;34m:\u001b[0m\u001b[0;34m\u001b[0m\u001b[0m\n\u001b[0;32m---> 94\u001b[0;31m             \u001b[0;32mreturn\u001b[0m \u001b[0mself\u001b[0m\u001b[0;34m.\u001b[0m\u001b[0mdict\u001b[0m\u001b[0;34m(\u001b[0m\u001b[0;34m)\u001b[0m\u001b[0;34m[\u001b[0m\u001b[0mkey\u001b[0m\u001b[0;34m]\u001b[0m\u001b[0;34m\u001b[0m\u001b[0m\n\u001b[0m\u001b[1;32m     95\u001b[0m \u001b[0;34m\u001b[0m\u001b[0m\n\u001b[1;32m     96\u001b[0m     \u001b[0;32mdef\u001b[0m \u001b[0m__setitem__\u001b[0m\u001b[0;34m(\u001b[0m\u001b[0mself\u001b[0m\u001b[0;34m,\u001b[0m \u001b[0mkey\u001b[0m\u001b[0;34m,\u001b[0m \u001b[0mvalue\u001b[0m\u001b[0;34m)\u001b[0m\u001b[0;34m:\u001b[0m\u001b[0;34m\u001b[0m\u001b[0m\n",
      "\u001b[0;31mKeyError\u001b[0m: 'age_count'"
     ]
    },
    {
     "name": "stderr",
     "output_type": "stream",
     "text": [
      "/System/Library/Frameworks/Python.framework/Versions/2.7/lib/python2.7/json/encoder.py:207: DeprecationWarning: Interpreting naive datetime as local 2017-02-28 11:57:12.994148. Please add timezone info to timestamps.\n"
     ]
    }
   ],
   "source": [
    "age_totals.order_by('age_count', reverse=True).print_table()\n"
   ]
  },
  {
   "cell_type": "code",
   "execution_count": 34,
   "metadata": {
    "collapsed": false
   },
   "outputs": [
    {
     "name": "stdout",
     "output_type": "stream",
     "text": [
      "| column    | data_type |\n",
      "| --------- | --------- |\n",
      "| Age       | Number    |\n",
      "| age_count | Number    |\n",
      "\n"
     ]
    },
    {
     "name": "stderr",
     "output_type": "stream",
     "text": [
      "/System/Library/Frameworks/Python.framework/Versions/2.7/lib/python2.7/json/encoder.py:207: DeprecationWarning: Interpreting naive datetime as local 2017-02-28 11:58:15.135112. Please add timezone info to timestamps.\n"
     ]
    }
   ],
   "source": [
    "print age_totals"
   ]
  },
  {
   "cell_type": "code",
   "execution_count": 35,
   "metadata": {
    "collapsed": false
   },
   "outputs": [
    {
     "name": "stdout",
     "output_type": "stream",
     "text": [
      "| Age | age_count |\n",
      "| --- | --------- |\n",
      "|  22 |       177 |\n",
      "|  27 |       169 |\n",
      "|  19 |       167 |\n",
      "|  21 |       161 |\n",
      "|  25 |       160 |\n",
      "|  23 |       159 |\n",
      "|  24 |       158 |\n",
      "|  26 |       145 |\n",
      "|  20 |       144 |\n",
      "|  30 |       137 |\n",
      "|  18 |       137 |\n",
      "|  31 |       124 |\n",
      "|  32 |       121 |\n",
      "|  28 |       119 |\n",
      "|  29 |       111 |\n",
      "|  33 |        95 |\n",
      "|  35 |        88 |\n",
      "|  36 |        75 |\n",
      "|  37 |        72 |\n",
      "|  34 |        71 |\n",
      "| ... |       ... |\n"
     ]
    },
    {
     "name": "stderr",
     "output_type": "stream",
     "text": [
      "/System/Library/Frameworks/Python.framework/Versions/2.7/lib/python2.7/json/encoder.py:207: DeprecationWarning: Interpreting naive datetime as local 2017-02-28 11:58:51.522560. Please add timezone info to timestamps.\n"
     ]
    }
   ],
   "source": [
    "age_totals.order_by('age_count', reverse=True).print_table()"
   ]
  },
  {
   "cell_type": "code",
   "execution_count": 36,
   "metadata": {
    "collapsed": false
   },
   "outputs": [
    {
     "name": "stderr",
     "output_type": "stream",
     "text": [
      "/System/Library/Frameworks/Python.framework/Versions/2.7/lib/python2.7/json/encoder.py:207: DeprecationWarning: Interpreting naive datetime as local 2017-02-28 11:59:36.355236. Please add timezone info to timestamps.\n"
     ]
    }
   ],
   "source": [
    "by_charge = results.group_by('Charge Descrip')\n",
    "age_avg = by_charge.aggregate ([('avg_age', agate.Mean('Age'))])"
   ]
  },
  {
   "cell_type": "code",
   "execution_count": 37,
   "metadata": {
    "collapsed": false
   },
   "outputs": [
    {
     "name": "stdout",
     "output_type": "stream",
     "text": [
      "| Charge Descrip       | avg_age |\n",
      "| -------------------- | ------- |\n",
      "| PETIT LARCENY: <$... | 31.531… |\n",
      "| LICENSE: DRIVE W/... | 31.743… |\n",
      "| LICENSE: DRIVE W/... | 30.226… |\n",
      "| GRAND LARCENY: $2... | 32.250… |\n",
      "| BURGLARIOUS TOOLS... | 31.889… |\n",
      "| IDENTITY THEFT: O... | 29.857… |\n",
      "| DRUGS: POSSESS MA... | 25.174… |\n",
      "| LIC REVOKED: DR W... | 32.912… |\n",
      "| LIC REVOKED: DR W... | 33.444… |\n",
      "| RECKLE/20 MPH OVE... | 31.630… |\n",
      "| DRUNK IN PUBLIC O... | 34.119… |\n",
      "| TRESPASS: AFTER B... | 34.500… |\n",
      "| FAILURE TO APPEAR... | 28.250… |\n",
      "| IDENTITY THEFT: O... | 22.900… |\n",
      "| DRUGS: POSSESS SC... | 30.984… |\n",
      "| DRUGS: DISTRIB/PW... | 25.700… |\n",
      "| PARAPHERNALIA: UN... | 33.364… |\n",
      "| INSUR: OPERATE UN... | 36.255… |\n",
      "| ASSAULT: ON FAMIL... | 35.979… |\n",
      "| PHONE: INJURE/TAP... | 34.750… |\n",
      "| ...                  |     ... |\n"
     ]
    },
    {
     "name": "stderr",
     "output_type": "stream",
     "text": [
      "/System/Library/Frameworks/Python.framework/Versions/2.7/lib/python2.7/json/encoder.py:207: DeprecationWarning: Interpreting naive datetime as local 2017-02-28 12:00:53.873684. Please add timezone info to timestamps.\n"
     ]
    }
   ],
   "source": [
    "age_avg = by_charge.aggregate ([('avg_age', agate.Mean('Age'))]).print_table()"
   ]
  },
  {
   "cell_type": "code",
   "execution_count": null,
   "metadata": {
    "collapsed": true
   },
   "outputs": [],
   "source": []
  }
 ],
 "metadata": {
  "kernelspec": {
   "display_name": "Python 2",
   "language": "python",
   "name": "python2"
  },
  "language_info": {
   "codemirror_mode": {
    "name": "ipython",
    "version": 2
   },
   "file_extension": ".py",
   "mimetype": "text/x-python",
   "name": "python",
   "nbconvert_exporter": "python",
   "pygments_lexer": "ipython2",
   "version": "2.7.10"
  }
 },
 "nbformat": 4,
 "nbformat_minor": 2
}
