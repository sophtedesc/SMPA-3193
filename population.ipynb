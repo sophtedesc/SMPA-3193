{
 "cells": [
  {
   "cell_type": "code",
   "execution_count": 16,
   "metadata": {
    "collapsed": false
   },
   "outputs": [
    {
     "ename": "SyntaxError",
     "evalue": "invalid syntax (<ipython-input-16-0317d4c3a0d5>, line 17)",
     "output_type": "error",
     "traceback": [
      "\u001b[0;36m  File \u001b[0;32m\"<ipython-input-16-0317d4c3a0d5>\"\u001b[0;36m, line \u001b[0;32m17\u001b[0m\n\u001b[0;31m    ND_counties = sorted_counties.where(lambda r: r['state'] == 'North Dakota')\u001b[0m\n\u001b[0m              ^\u001b[0m\n\u001b[0;31mSyntaxError\u001b[0m\u001b[0;31m:\u001b[0m invalid syntax\n"
     ]
    },
    {
     "name": "stderr",
     "output_type": "stream",
     "text": [
      "/System/Library/Frameworks/Python.framework/Versions/2.7/lib/python2.7/json/encoder.py:207: DeprecationWarning: Interpreting naive datetime as local 2017-03-06 18:32:27.842024. Please add timezone info to timestamps.\n"
     ]
    }
   ],
   "source": [
    "import agate\n",
    "counties = agate.Table.from_csv(\"county_population.csv\")\n",
    "print counties\n",
    "popchange1016 = counties.compute([\n",
    "    ('change', agate.PercentChange('estimate_2010', 'estimate_2015'))\n",
    "])\n",
    "print popchange1016[0]['change']\n",
    "from decimal import Decimal\n",
    "def round_change(row):\n",
    "    return row['change'].quantize(Decimal('0.1'))\n",
    "rounded_change = popchange1016.compute([\n",
    "    ('change_rounded', agate.Formula(agate.Number(), round_change))\n",
    "])\n",
    "print rounded_change[0]['change_rounded']\n",
    "sorted_counties = rounded_change.order_by('change', reverse=True)\n",
    "sorted_counties.select(['county', 'state', 'change_rounded']).print_table(max_rows=50\n",
    "ND_counties = sorted_counties.where(lambda r: r['state'] == 'North Dakota')"
   ]
  }
 ],
 "metadata": {
  "kernelspec": {
   "display_name": "Python 2",
   "language": "python",
   "name": "python2"
  },
  "language_info": {
   "codemirror_mode": {
    "name": "ipython",
    "version": 2
   },
   "file_extension": ".py",
   "mimetype": "text/x-python",
   "name": "python",
   "nbconvert_exporter": "python",
   "pygments_lexer": "ipython2",
   "version": "2.7.10"
  }
 },
 "nbformat": 4,
 "nbformat_minor": 2
}
